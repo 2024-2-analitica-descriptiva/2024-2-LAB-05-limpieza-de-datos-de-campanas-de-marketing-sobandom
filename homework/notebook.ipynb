{
 "cells": [
  {
   "cell_type": "code",
   "execution_count": 4,
   "metadata": {},
   "outputs": [],
   "source": [
    "import pandas as pd\n",
    "import zipfile\n",
    "import os "
   ]
  },
  {
   "cell_type": "code",
   "execution_count": 9,
   "metadata": {},
   "outputs": [],
   "source": [
    "#crear rutas de input y output\n",
    "input_ruta=\"../files/input/\"\n",
    "output_ruta=\"../files/output/\"\n",
    "os.makedirs(output_ruta, exist_ok=True)"
   ]
  },
  {
   "cell_type": "code",
   "execution_count": 10,
   "metadata": {},
   "outputs": [
    {
     "ename": "IndentationError",
     "evalue": "unexpected indent (107508905.py, line 4)",
     "output_type": "error",
     "traceback": [
      "\u001b[1;36m  Cell \u001b[1;32mIn[10], line 4\u001b[1;36m\u001b[0m\n\u001b[1;33m    for file_name in os.listdir(input_ruta):\u001b[0m\n\u001b[1;37m    ^\u001b[0m\n\u001b[1;31mIndentationError\u001b[0m\u001b[1;31m:\u001b[0m unexpected indent\n"
     ]
    }
   ],
   "source": [
    "#leer archivos csv.zip\n",
    "data=[]\n",
    "    \n",
    "    for file_name in os.listdir(input_ruta):\n",
    "        with zipfile.ZipFile(input_ruta+file_name, 'r') as z:\n",
    "            for csv_file in z.namelist():\n",
    "                with z.open(csv_file) as f:\n",
    "                    df=pd.read_csv(f)\n",
    "                    if 'client_id' in df.columns:\n",
    "                        data.append(df)\n",
    "\n",
    "\n",
    "    data_frame=pd.concat(data)"
   ]
  },
  {
   "cell_type": "code",
   "execution_count": null,
   "metadata": {},
   "outputs": [],
   "source": [
    " #Client.csv\n",
    "    data_frame['job']=data_frame['job'].str.replace('.','').str.replace('-','_')\n",
    "    data_frame['education']=data_frame['education'].str.replace('.','_').replace('unknown','pd.NA')\n",
    "    data_frame['credit_default']=data_frame['credit_default'].apply(lambda x: 1 if x=='yes' else 0)\n",
    "    data_frame['mortgage']=data_frame['mortgage'].apply(lambda x: 1 if x=='yes' else 0)\n",
    "    data_frame[['client_id','age','job','marital','education','credit_default','mortgage']].to_csv(output_ruta+'client.csv', index=False)"
   ]
  },
  {
   "cell_type": "code",
   "execution_count": null,
   "metadata": {},
   "outputs": [],
   "source": [
    "#Campaign.csv\n",
    "    data_frame['previous_outcome']=data_frame['previous_outcome'].apply(lambda x: 1 if x=='success' else 0)\n",
    "    data_frame['campaign_outcome']=data_frame['campaign_outcome'].apply(lambda x: 1 if x=='yes' else 0)\n",
    "    data_frame['last_contact_date'] = data_frame.apply(lambda row: pd.to_datetime(f\"2022-{row['month']}-{row['day']}\"), axis=1)\n",
    "    data_frame[['client_id','number_contacts','contact_duration','previous_campaign_contacts','previous_outcome','campaign_outcome','last_contact_date']].to_csv(output_ruta+'campaign.csv', index=False)"
   ]
  },
  {
   "cell_type": "code",
   "execution_count": null,
   "metadata": {},
   "outputs": [],
   "source": [
    "#economics.csv\n",
    "    data_frame[['client_id','cons_price_idx','euribor_three_months']].to_csv(output_ruta+'economics.csv', index=False)"
   ]
  }
 ],
 "metadata": {
  "kernelspec": {
   "display_name": ".venv",
   "language": "python",
   "name": "python3"
  },
  "language_info": {
   "codemirror_mode": {
    "name": "ipython",
    "version": 3
   },
   "file_extension": ".py",
   "mimetype": "text/x-python",
   "name": "python",
   "nbconvert_exporter": "python",
   "pygments_lexer": "ipython3",
   "version": "3.13.0"
  }
 },
 "nbformat": 4,
 "nbformat_minor": 2
}
